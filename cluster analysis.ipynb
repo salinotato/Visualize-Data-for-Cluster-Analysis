{
  "cells": [
    {
      "cell_type": "code",
      "execution_count": null,
      "id": "a747656f",
      "metadata": {
        "id": "a747656f"
      },
      "outputs": [],
      "source": [
        "from numpy.random import uniform, normal, randint, rand\n",
        "import numpy as np\n",
        "import pandas as pd\n",
        "import matplotlib.pyplot as plt\n",
        "\n",
        "def generate_dataset(seed):\n",
        "    np.random.seed(seed)\n",
        "    \n",
        "    x = np.array([])\n",
        "    y = np.array([])\n",
        "    loop = randint(10,15)\n",
        "\n",
        "    for i in range(loop):\n",
        "        x = np.append(x, np.random.normal(randint(10), rand(), 20))\n",
        "        y = np.append(y, np.random.normal(randint(10), rand(), 20))\n",
        "        \n",
        "    df = pd.DataFrame(data = {'x': x, 'y':y})\n",
        "    df.to_csv('dataset.csv', index=False)"
      ]
    },
    {
      "cell_type": "code",
      "execution_count": null,
      "id": "0f98f632",
      "metadata": {
        "id": "0f98f632"
      },
      "outputs": [],
      "source": [
        "student_id = 2440106756\n",
        "\n",
        "generate_dataset(student_id)"
      ]
    },
    {
      "cell_type": "code",
      "execution_count": null,
      "id": "c1009c6f",
      "metadata": {
        "colab": {
          "base_uri": "https://localhost:8080/",
          "height": 206
        },
        "id": "c1009c6f",
        "outputId": "c1fa3e7a-4a71-4480-801f-0f043c6f1fe5"
      },
      "outputs": [
        {
          "output_type": "execute_result",
          "data": {
            "text/plain": [
              "          x         y\n",
              "0  6.689785  8.856249\n",
              "1  6.247631  9.279458\n",
              "2  7.621571  8.905836\n",
              "3  7.089039  9.095897\n",
              "4  6.490597  9.004581"
            ],
            "text/html": [
              "\n",
              "  <div id=\"df-9be1108b-6665-45c7-a056-6888f721ea7e\">\n",
              "    <div class=\"colab-df-container\">\n",
              "      <div>\n",
              "<style scoped>\n",
              "    .dataframe tbody tr th:only-of-type {\n",
              "        vertical-align: middle;\n",
              "    }\n",
              "\n",
              "    .dataframe tbody tr th {\n",
              "        vertical-align: top;\n",
              "    }\n",
              "\n",
              "    .dataframe thead th {\n",
              "        text-align: right;\n",
              "    }\n",
              "</style>\n",
              "<table border=\"1\" class=\"dataframe\">\n",
              "  <thead>\n",
              "    <tr style=\"text-align: right;\">\n",
              "      <th></th>\n",
              "      <th>x</th>\n",
              "      <th>y</th>\n",
              "    </tr>\n",
              "  </thead>\n",
              "  <tbody>\n",
              "    <tr>\n",
              "      <th>0</th>\n",
              "      <td>6.689785</td>\n",
              "      <td>8.856249</td>\n",
              "    </tr>\n",
              "    <tr>\n",
              "      <th>1</th>\n",
              "      <td>6.247631</td>\n",
              "      <td>9.279458</td>\n",
              "    </tr>\n",
              "    <tr>\n",
              "      <th>2</th>\n",
              "      <td>7.621571</td>\n",
              "      <td>8.905836</td>\n",
              "    </tr>\n",
              "    <tr>\n",
              "      <th>3</th>\n",
              "      <td>7.089039</td>\n",
              "      <td>9.095897</td>\n",
              "    </tr>\n",
              "    <tr>\n",
              "      <th>4</th>\n",
              "      <td>6.490597</td>\n",
              "      <td>9.004581</td>\n",
              "    </tr>\n",
              "  </tbody>\n",
              "</table>\n",
              "</div>\n",
              "      <button class=\"colab-df-convert\" onclick=\"convertToInteractive('df-9be1108b-6665-45c7-a056-6888f721ea7e')\"\n",
              "              title=\"Convert this dataframe to an interactive table.\"\n",
              "              style=\"display:none;\">\n",
              "        \n",
              "  <svg xmlns=\"http://www.w3.org/2000/svg\" height=\"24px\"viewBox=\"0 0 24 24\"\n",
              "       width=\"24px\">\n",
              "    <path d=\"M0 0h24v24H0V0z\" fill=\"none\"/>\n",
              "    <path d=\"M18.56 5.44l.94 2.06.94-2.06 2.06-.94-2.06-.94-.94-2.06-.94 2.06-2.06.94zm-11 1L8.5 8.5l.94-2.06 2.06-.94-2.06-.94L8.5 2.5l-.94 2.06-2.06.94zm10 10l.94 2.06.94-2.06 2.06-.94-2.06-.94-.94-2.06-.94 2.06-2.06.94z\"/><path d=\"M17.41 7.96l-1.37-1.37c-.4-.4-.92-.59-1.43-.59-.52 0-1.04.2-1.43.59L10.3 9.45l-7.72 7.72c-.78.78-.78 2.05 0 2.83L4 21.41c.39.39.9.59 1.41.59.51 0 1.02-.2 1.41-.59l7.78-7.78 2.81-2.81c.8-.78.8-2.07 0-2.86zM5.41 20L4 18.59l7.72-7.72 1.47 1.35L5.41 20z\"/>\n",
              "  </svg>\n",
              "      </button>\n",
              "      \n",
              "  <style>\n",
              "    .colab-df-container {\n",
              "      display:flex;\n",
              "      flex-wrap:wrap;\n",
              "      gap: 12px;\n",
              "    }\n",
              "\n",
              "    .colab-df-convert {\n",
              "      background-color: #E8F0FE;\n",
              "      border: none;\n",
              "      border-radius: 50%;\n",
              "      cursor: pointer;\n",
              "      display: none;\n",
              "      fill: #1967D2;\n",
              "      height: 32px;\n",
              "      padding: 0 0 0 0;\n",
              "      width: 32px;\n",
              "    }\n",
              "\n",
              "    .colab-df-convert:hover {\n",
              "      background-color: #E2EBFA;\n",
              "      box-shadow: 0px 1px 2px rgba(60, 64, 67, 0.3), 0px 1px 3px 1px rgba(60, 64, 67, 0.15);\n",
              "      fill: #174EA6;\n",
              "    }\n",
              "\n",
              "    [theme=dark] .colab-df-convert {\n",
              "      background-color: #3B4455;\n",
              "      fill: #D2E3FC;\n",
              "    }\n",
              "\n",
              "    [theme=dark] .colab-df-convert:hover {\n",
              "      background-color: #434B5C;\n",
              "      box-shadow: 0px 1px 3px 1px rgba(0, 0, 0, 0.15);\n",
              "      filter: drop-shadow(0px 1px 2px rgba(0, 0, 0, 0.3));\n",
              "      fill: #FFFFFF;\n",
              "    }\n",
              "  </style>\n",
              "\n",
              "      <script>\n",
              "        const buttonEl =\n",
              "          document.querySelector('#df-9be1108b-6665-45c7-a056-6888f721ea7e button.colab-df-convert');\n",
              "        buttonEl.style.display =\n",
              "          google.colab.kernel.accessAllowed ? 'block' : 'none';\n",
              "\n",
              "        async function convertToInteractive(key) {\n",
              "          const element = document.querySelector('#df-9be1108b-6665-45c7-a056-6888f721ea7e');\n",
              "          const dataTable =\n",
              "            await google.colab.kernel.invokeFunction('convertToInteractive',\n",
              "                                                     [key], {});\n",
              "          if (!dataTable) return;\n",
              "\n",
              "          const docLinkHtml = 'Like what you see? Visit the ' +\n",
              "            '<a target=\"_blank\" href=https://colab.research.google.com/notebooks/data_table.ipynb>data table notebook</a>'\n",
              "            + ' to learn more about interactive tables.';\n",
              "          element.innerHTML = '';\n",
              "          dataTable['output_type'] = 'display_data';\n",
              "          await google.colab.output.renderOutput(dataTable, element);\n",
              "          const docLink = document.createElement('div');\n",
              "          docLink.innerHTML = docLinkHtml;\n",
              "          element.appendChild(docLink);\n",
              "        }\n",
              "      </script>\n",
              "    </div>\n",
              "  </div>\n",
              "  "
            ]
          },
          "metadata": {},
          "execution_count": 4
        }
      ],
      "source": [
        "dataset = pd.read_csv('dataset.csv')\n",
        "dataset.head()"
      ]
    },
    {
      "cell_type": "code",
      "source": [
        "dataset['x'].value_counts()\n",
        "dataset['y'].value_counts()"
      ],
      "metadata": {
        "colab": {
          "base_uri": "https://localhost:8080/"
        },
        "id": "JwgagCVXGQJw",
        "outputId": "9fa59376-aed3-4fb9-c8df-989c38d585ce"
      },
      "id": "JwgagCVXGQJw",
      "execution_count": null,
      "outputs": [
        {
          "output_type": "execute_result",
          "data": {
            "text/plain": [
              "8.856249    1\n",
              "6.373617    1\n",
              "5.514564    1\n",
              "5.824954    1\n",
              "5.481032    1\n",
              "           ..\n",
              "3.058730    1\n",
              "2.385151    1\n",
              "3.129708    1\n",
              "3.899438    1\n",
              "6.351637    1\n",
              "Name: y, Length: 200, dtype: int64"
            ]
          },
          "metadata": {},
          "execution_count": 5
        }
      ]
    },
    {
      "cell_type": "code",
      "source": [
        "x = dataset.iloc[:200:2].values\n",
        "x[:200]"
      ],
      "metadata": {
        "colab": {
          "base_uri": "https://localhost:8080/"
        },
        "id": "ZdkeAuIBGjlf",
        "outputId": "e74da295-6d2b-4834-d59c-45467e83d698"
      },
      "id": "ZdkeAuIBGjlf",
      "execution_count": null,
      "outputs": [
        {
          "output_type": "execute_result",
          "data": {
            "text/plain": [
              "array([[ 6.68978526e+00,  8.85624872e+00],\n",
              "       [ 7.62157131e+00,  8.90583612e+00],\n",
              "       [ 6.49059747e+00,  9.00458073e+00],\n",
              "       [ 7.70572050e+00,  9.08108773e+00],\n",
              "       [ 6.90359543e+00,  8.94935394e+00],\n",
              "       [ 5.94522469e+00,  9.09717874e+00],\n",
              "       [ 6.81713749e+00,  8.81417346e+00],\n",
              "       [ 7.57162656e+00,  8.72731926e+00],\n",
              "       [ 6.37093312e+00,  8.98810702e+00],\n",
              "       [ 7.84434350e+00,  8.82329254e+00],\n",
              "       [ 5.06162138e+00,  3.86004501e+00],\n",
              "       [ 5.16793583e+00,  3.92307207e+00],\n",
              "       [ 4.80648378e+00,  4.26516399e+00],\n",
              "       [ 4.68581977e+00,  3.76461565e+00],\n",
              "       [ 4.74949949e+00,  4.56939999e+00],\n",
              "       [ 4.88365030e+00,  3.68787180e+00],\n",
              "       [ 4.78077433e+00,  3.60806411e+00],\n",
              "       [ 5.36461779e+00,  4.31411741e+00],\n",
              "       [ 5.23435240e+00,  4.33316860e+00],\n",
              "       [ 5.25730248e+00,  3.73695287e+00],\n",
              "       [ 2.00771449e+00,  2.79203255e+00],\n",
              "       [ 1.69092338e+00,  3.07489894e+00],\n",
              "       [ 2.03365719e+00,  2.39976874e+00],\n",
              "       [ 1.98795436e+00,  3.09230376e+00],\n",
              "       [ 1.78159743e+00,  3.59382366e+00],\n",
              "       [ 1.82199657e+00,  2.49624252e+00],\n",
              "       [ 1.95578720e+00,  2.54304927e+00],\n",
              "       [ 1.93262400e+00,  3.52605184e+00],\n",
              "       [ 1.77210045e+00,  2.90778445e+00],\n",
              "       [ 1.92095035e+00,  2.61380375e+00],\n",
              "       [ 5.85845006e+00,  2.72826599e+00],\n",
              "       [ 4.96576789e+00,  3.00600343e+00],\n",
              "       [ 5.94852017e+00,  3.26147182e+00],\n",
              "       [ 7.56787544e+00,  3.23094970e+00],\n",
              "       [ 6.45411692e+00,  2.65543824e+00],\n",
              "       [ 4.78624264e+00,  2.38515050e+00],\n",
              "       [ 4.94683514e+00,  3.89943824e+00],\n",
              "       [ 6.01980544e+00,  3.57575364e+00],\n",
              "       [ 6.41703865e+00,  3.14217764e+00],\n",
              "       [ 6.54042494e+00,  3.06726053e+00],\n",
              "       [ 4.01545115e-03,  6.65811631e-01],\n",
              "       [-2.46045842e-01,  2.17438508e+00],\n",
              "       [-1.82096445e-01,  1.99108235e+00],\n",
              "       [ 1.66461904e-01,  2.39467729e+00],\n",
              "       [-1.61369956e-01,  3.68292804e+00],\n",
              "       [-4.28072503e-01,  2.39516099e+00],\n",
              "       [-2.47220896e-01,  1.07918972e+00],\n",
              "       [-3.79192460e-02,  3.18120176e+00],\n",
              "       [ 2.43630039e-01,  1.84951488e+00],\n",
              "       [-3.21927931e-01,  2.05647876e+00],\n",
              "       [ 6.95864213e+00,  6.27830423e+00],\n",
              "       [ 6.26880281e+00,  1.00763386e+01],\n",
              "       [ 6.01341336e+00,  9.13066251e+00],\n",
              "       [ 7.38680431e+00,  7.76467299e+00],\n",
              "       [ 7.04830406e+00,  1.03696548e+01],\n",
              "       [ 7.47451685e+00,  7.83776523e+00],\n",
              "       [ 6.88862577e+00,  8.16218272e+00],\n",
              "       [ 6.40025397e+00,  7.27113914e+00],\n",
              "       [ 7.00256917e+00,  6.85537685e+00],\n",
              "       [ 6.71755479e+00,  7.54818320e+00],\n",
              "       [ 1.90727857e+00,  6.33455010e+00],\n",
              "       [ 1.23275712e+00,  5.82724907e+00],\n",
              "       [ 1.48168189e+00,  6.47118706e+00],\n",
              "       [ 1.01873268e+00,  6.12538819e+00],\n",
              "       [ 5.26551569e-01,  5.82495423e+00],\n",
              "       [ 6.26518714e-01,  5.89564484e+00],\n",
              "       [ 4.10268556e-01,  6.24971361e+00],\n",
              "       [ 8.62482738e-01,  6.11464683e+00],\n",
              "       [ 9.77148823e-01,  5.72154896e+00],\n",
              "       [ 2.44700311e-01,  6.15563837e+00],\n",
              "       [ 6.49194080e-01,  8.99605537e+00],\n",
              "       [ 8.24147472e-01,  8.99351596e+00],\n",
              "       [ 3.41142688e-01,  8.98879346e+00],\n",
              "       [ 1.00500486e+00,  9.00795201e+00],\n",
              "       [-9.85024445e-03,  9.01225363e+00],\n",
              "       [-9.78690404e-01,  9.00699559e+00],\n",
              "       [-6.26782095e-02,  9.01612134e+00],\n",
              "       [-7.10755732e-01,  9.00418823e+00],\n",
              "       [-4.82254684e-01,  8.98660772e+00],\n",
              "       [-5.77021007e-02,  8.99207020e+00],\n",
              "       [ 4.42252808e+00,  1.13113650e-01],\n",
              "       [ 3.21093797e+00,  1.45353230e+00],\n",
              "       [ 5.66773400e+00,  2.14275531e+00],\n",
              "       [ 1.29942117e+00,  1.01849451e+00],\n",
              "       [ 3.53236644e+00,  1.38077484e+00],\n",
              "       [ 2.10712139e+00,  9.69337449e-01],\n",
              "       [ 3.34941796e+00,  4.06432171e-01],\n",
              "       [ 2.50328803e+00,  1.70052948e+00],\n",
              "       [ 2.44307815e+00,  2.18595996e+00],\n",
              "       [ 2.72633356e+00,  4.55478812e-01],\n",
              "       [ 8.03376794e+00,  6.84743036e+00],\n",
              "       [ 8.48329015e+00,  6.67409125e+00],\n",
              "       [ 7.28223512e+00,  5.85734961e+00],\n",
              "       [ 7.38805445e+00,  6.99011465e+00],\n",
              "       [ 5.60027232e+00,  5.94366599e+00],\n",
              "       [ 7.16247121e+00,  6.11868764e+00],\n",
              "       [ 6.71815946e+00,  6.43125835e+00],\n",
              "       [ 7.77000028e+00,  5.45791279e+00],\n",
              "       [ 6.32191236e+00,  4.57856082e+00],\n",
              "       [ 7.19888221e+00,  6.18184406e+00]])"
            ]
          },
          "metadata": {},
          "execution_count": 6
        }
      ]
    },
    {
      "cell_type": "code",
      "source": [
        "from sklearn.cluster import KMeans\n",
        "wcss = [ ]\n",
        "\n",
        "for i in range(1, 11):\n",
        "  kmeans = KMeans(n_clusters = i, init = 'k-means++', random_state =70)\n",
        "  kmeans.fit(x)\n",
        "  wcss.append(kmeans.inertia_)\n",
        "plt.plot(range(1, 11), wcss)\n",
        "plt.title('elbow method')\n",
        "plt.xlabel('cluster number')\n",
        "plt.ylabel('wcss')\n",
        "plt.show()"
      ],
      "metadata": {
        "colab": {
          "base_uri": "https://localhost:8080/",
          "height": 295
        },
        "id": "05UBnN2vG5b_",
        "outputId": "af267d19-c02c-40b5-e5a5-9fa199436b99"
      },
      "id": "05UBnN2vG5b_",
      "execution_count": null,
      "outputs": [
        {
          "output_type": "display_data",
          "data": {
            "text/plain": [
              "<Figure size 432x288 with 1 Axes>"
            ],
            "image/png": "[encoded data removed]"
          },
          "metadata": {
            "needs_background": "light"
          }
        }
      ]
    },
    {
      "cell_type": "code",
      "source": [
        "kmeans = KMeans (n_clusters = 3, random_state = 70)\n",
        "kmeans.fit_predict(dataset)"
      ],
      "metadata": {
        "colab": {
          "base_uri": "https://localhost:8080/"
        },
        "id": "4UHv492WJuOD",
        "outputId": "7489aefd-8d83-465f-b6d2-07eabd7bba05"
      },
      "id": "4UHv492WJuOD",
      "execution_count": null,
      "outputs": [
        {
          "output_type": "execute_result",
          "data": {
            "text/plain": [
              "array([2, 2, 2, 2, 2, 2, 2, 2, 2, 2, 2, 2, 2, 2, 2, 2, 2, 2, 2, 2, 0, 0,\n",
              "       0, 0, 0, 0, 0, 0, 0, 0, 0, 0, 0, 0, 0, 0, 0, 0, 0, 0, 0, 0, 0, 0,\n",
              "       0, 0, 0, 0, 0, 0, 0, 0, 0, 0, 0, 0, 0, 0, 0, 0, 0, 0, 0, 0, 0, 0,\n",
              "       0, 0, 0, 0, 0, 0, 0, 0, 0, 0, 0, 0, 0, 0, 0, 0, 0, 0, 0, 0, 0, 0,\n",
              "       0, 0, 0, 0, 0, 0, 0, 0, 0, 0, 0, 0, 2, 2, 2, 2, 2, 2, 2, 2, 2, 2,\n",
              "       2, 2, 2, 2, 2, 2, 2, 2, 2, 2, 1, 1, 1, 1, 1, 1, 1, 1, 1, 1, 1, 1,\n",
              "       1, 1, 1, 1, 1, 1, 1, 1, 1, 1, 1, 1, 1, 1, 1, 1, 1, 1, 1, 1, 1, 1,\n",
              "       1, 1, 1, 1, 1, 1, 0, 0, 0, 0, 0, 0, 0, 0, 0, 0, 0, 0, 0, 0, 0, 0,\n",
              "       0, 0, 0, 0, 2, 2, 2, 2, 2, 2, 2, 2, 2, 2, 2, 2, 2, 2, 2, 2, 2, 2,\n",
              "       2, 2], dtype=int32)"
            ]
          },
          "metadata": {},
          "execution_count": 9
        }
      ]
    },
    {
      "cell_type": "code",
      "source": [
        "kmeans.labels_"
      ],
      "metadata": {
        "colab": {
          "base_uri": "https://localhost:8080/"
        },
        "id": "wodsYYKvKAfX",
        "outputId": "ea9c4f51-c9ab-4854-9628-bc9284fa0d5d"
      },
      "id": "wodsYYKvKAfX",
      "execution_count": null,
      "outputs": [
        {
          "output_type": "execute_result",
          "data": {
            "text/plain": [
              "array([2, 2, 2, 2, 2, 2, 2, 2, 2, 2, 2, 2, 2, 2, 2, 2, 2, 2, 2, 2, 0, 0,\n",
              "       0, 0, 0, 0, 0, 0, 0, 0, 0, 0, 0, 0, 0, 0, 0, 0, 0, 0, 0, 0, 0, 0,\n",
              "       0, 0, 0, 0, 0, 0, 0, 0, 0, 0, 0, 0, 0, 0, 0, 0, 0, 0, 0, 0, 0, 0,\n",
              "       0, 0, 0, 0, 0, 0, 0, 0, 0, 0, 0, 0, 0, 0, 0, 0, 0, 0, 0, 0, 0, 0,\n",
              "       0, 0, 0, 0, 0, 0, 0, 0, 0, 0, 0, 0, 2, 2, 2, 2, 2, 2, 2, 2, 2, 2,\n",
              "       2, 2, 2, 2, 2, 2, 2, 2, 2, 2, 1, 1, 1, 1, 1, 1, 1, 1, 1, 1, 1, 1,\n",
              "       1, 1, 1, 1, 1, 1, 1, 1, 1, 1, 1, 1, 1, 1, 1, 1, 1, 1, 1, 1, 1, 1,\n",
              "       1, 1, 1, 1, 1, 1, 0, 0, 0, 0, 0, 0, 0, 0, 0, 0, 0, 0, 0, 0, 0, 0,\n",
              "       0, 0, 0, 0, 2, 2, 2, 2, 2, 2, 2, 2, 2, 2, 2, 2, 2, 2, 2, 2, 2, 2,\n",
              "       2, 2], dtype=int32)"
            ]
          },
          "metadata": {},
          "execution_count": 10
        }
      ]
    },
    {
      "cell_type": "code",
      "source": [
        "datacluster = dataset.copy()\n",
        "datacluster['cluster'] = kmeans.labels_"
      ],
      "metadata": {
        "id": "7MVmRRUhKIBd"
      },
      "id": "7MVmRRUhKIBd",
      "execution_count": null,
      "outputs": []
    },
    {
      "cell_type": "code",
      "source": [
        "x1 = dataset['x']\n",
        "y1 = dataset['y']\n",
        "label = kmeans.labels_\n",
        "\n",
        "plt.show()\n",
        "datacluster\n"
      ],
      "metadata": {
        "colab": {
          "base_uri": "https://localhost:8080/",
          "height": 424
        },
        "id": "Z4W9gl2SKYod",
        "outputId": "4561a7ef-d169-4859-af9b-795eb71ed160"
      },
      "id": "Z4W9gl2SKYod",
      "execution_count": null,
      "outputs": [
        {
          "output_type": "execute_result",
          "data": {
            "text/plain": [
              "            x         y  cluster\n",
              "0    6.689785  8.856249        2\n",
              "1    6.247631  9.279458        2\n",
              "2    7.621571  8.905836        2\n",
              "3    7.089039  9.095897        2\n",
              "4    6.490597  9.004581        2\n",
              "..        ...       ...      ...\n",
              "195  7.735193  5.692324        2\n",
              "196  6.321912  4.578561        2\n",
              "197  7.511311  5.410438        2\n",
              "198  7.198882  6.181844        2\n",
              "199  6.139201  6.351637        2\n",
              "\n",
              "[200 rows x 3 columns]"
            ],
            "text/html": [
              "\n",
              "  <div id=\"df-b426fa86-6896-4342-8a0a-2c0a494fa966\">\n",
              "    <div class=\"colab-df-container\">\n",
              "      <div>\n",
              "<style scoped>\n",
              "    .dataframe tbody tr th:only-of-type {\n",
              "        vertical-align: middle;\n",
              "    }\n",
              "\n",
              "    .dataframe tbody tr th {\n",
              "        vertical-align: top;\n",
              "    }\n",
              "\n",
              "    .dataframe thead th {\n",
              "        text-align: right;\n",
              "    }\n",
              "</style>\n",
              "<table border=\"1\" class=\"dataframe\">\n",
              "  <thead>\n",
              "    <tr style=\"text-align: right;\">\n",
              "      <th></th>\n",
              "      <th>x</th>\n",
              "      <th>y</th>\n",
              "      <th>cluster</th>\n",
              "    </tr>\n",
              "  </thead>\n",
              "  <tbody>\n",
              "    <tr>\n",
              "      <th>0</th>\n",
              "      <td>6.689785</td>\n",
              "      <td>8.856249</td>\n",
              "      <td>2</td>\n",
              "    </tr>\n",
              "    <tr>\n",
              "      <th>1</th>\n",
              "      <td>6.247631</td>\n",
              "      <td>9.279458</td>\n",
              "      <td>2</td>\n",
              "    </tr>\n",
              "    <tr>\n",
              "      <th>2</th>\n",
              "      <td>7.621571</td>\n",
              "      <td>8.905836</td>\n",
              "      <td>2</td>\n",
              "    </tr>\n",
              "    <tr>\n",
              "      <th>3</th>\n",
              "      <td>7.089039</td>\n",
              "      <td>9.095897</td>\n",
              "      <td>2</td>\n",
              "    </tr>\n",
              "    <tr>\n",
              "      <th>4</th>\n",
              "      <td>6.490597</td>\n",
              "      <td>9.004581</td>\n",
              "      <td>2</td>\n",
              "    </tr>\n",
              "    <tr>\n",
              "      <th>...</th>\n",
              "      <td>...</td>\n",
              "      <td>...</td>\n",
              "      <td>...</td>\n",
              "    </tr>\n",
              "    <tr>\n",
              "      <th>195</th>\n",
              "      <td>7.735193</td>\n",
              "      <td>5.692324</td>\n",
              "      <td>2</td>\n",
              "    </tr>\n",
              "    <tr>\n",
              "      <th>196</th>\n",
              "      <td>6.321912</td>\n",
              "      <td>4.578561</td>\n",
              "      <td>2</td>\n",
              "    </tr>\n",
              "    <tr>\n",
              "      <th>197</th>\n",
              "      <td>7.511311</td>\n",
              "      <td>5.410438</td>\n",
              "      <td>2</td>\n",
              "    </tr>\n",
              "    <tr>\n",
              "      <th>198</th>\n",
              "      <td>7.198882</td>\n",
              "      <td>6.181844</td>\n",
              "      <td>2</td>\n",
              "    </tr>\n",
              "    <tr>\n",
              "      <th>199</th>\n",
              "      <td>6.139201</td>\n",
              "      <td>6.351637</td>\n",
              "      <td>2</td>\n",
              "    </tr>\n",
              "  </tbody>\n",
              "</table>\n",
              "<p>200 rows × 3 columns</p>\n",
              "</div>\n",
              "      <button class=\"colab-df-convert\" onclick=\"convertToInteractive('df-b426fa86-6896-4342-8a0a-2c0a494fa966')\"\n",
              "              title=\"Convert this dataframe to an interactive table.\"\n",
              "              style=\"display:none;\">\n",
              "        \n",
              "  <svg xmlns=\"http://www.w3.org/2000/svg\" height=\"24px\"viewBox=\"0 0 24 24\"\n",
              "       width=\"24px\">\n",
              "    <path d=\"M0 0h24v24H0V0z\" fill=\"none\"/>\n",
              "    <path d=\"M18.56 5.44l.94 2.06.94-2.06 2.06-.94-2.06-.94-.94-2.06-.94 2.06-2.06.94zm-11 1L8.5 8.5l.94-2.06 2.06-.94-2.06-.94L8.5 2.5l-.94 2.06-2.06.94zm10 10l.94 2.06.94-2.06 2.06-.94-2.06-.94-.94-2.06-.94 2.06-2.06.94z\"/><path d=\"M17.41 7.96l-1.37-1.37c-.4-.4-.92-.59-1.43-.59-.52 0-1.04.2-1.43.59L10.3 9.45l-7.72 7.72c-.78.78-.78 2.05 0 2.83L4 21.41c.39.39.9.59 1.41.59.51 0 1.02-.2 1.41-.59l7.78-7.78 2.81-2.81c.8-.78.8-2.07 0-2.86zM5.41 20L4 18.59l7.72-7.72 1.47 1.35L5.41 20z\"/>\n",
              "  </svg>\n",
              "      </button>\n",
              "      \n",
              "  <style>\n",
              "    .colab-df-container {\n",
              "      display:flex;\n",
              "      flex-wrap:wrap;\n",
              "      gap: 12px;\n",
              "    }\n",
              "\n",
              "    .colab-df-convert {\n",
              "      background-color: #E8F0FE;\n",
              "      border: none;\n",
              "      border-radius: 50%;\n",
              "      cursor: pointer;\n",
              "      display: none;\n",
              "      fill: #1967D2;\n",
              "      height: 32px;\n",
              "      padding: 0 0 0 0;\n",
              "      width: 32px;\n",
              "    }\n",
              "\n",
              "    .colab-df-convert:hover {\n",
              "      background-color: #E2EBFA;\n",
              "      box-shadow: 0px 1px 2px rgba(60, 64, 67, 0.3), 0px 1px 3px 1px rgba(60, 64, 67, 0.15);\n",
              "      fill: #174EA6;\n",
              "    }\n",
              "\n",
              "    [theme=dark] .colab-df-convert {\n",
              "      background-color: #3B4455;\n",
              "      fill: #D2E3FC;\n",
              "    }\n",
              "\n",
              "    [theme=dark] .colab-df-convert:hover {\n",
              "      background-color: #434B5C;\n",
              "      box-shadow: 0px 1px 3px 1px rgba(0, 0, 0, 0.15);\n",
              "      filter: drop-shadow(0px 1px 2px rgba(0, 0, 0, 0.3));\n",
              "      fill: #FFFFFF;\n",
              "    }\n",
              "  </style>\n",
              "\n",
              "      <script>\n",
              "        const buttonEl =\n",
              "          document.querySelector('#df-b426fa86-6896-4342-8a0a-2c0a494fa966 button.colab-df-convert');\n",
              "        buttonEl.style.display =\n",
              "          google.colab.kernel.accessAllowed ? 'block' : 'none';\n",
              "\n",
              "        async function convertToInteractive(key) {\n",
              "          const element = document.querySelector('#df-b426fa86-6896-4342-8a0a-2c0a494fa966');\n",
              "          const dataTable =\n",
              "            await google.colab.kernel.invokeFunction('convertToInteractive',\n",
              "                                                     [key], {});\n",
              "          if (!dataTable) return;\n",
              "\n",
              "          const docLinkHtml = 'Like what you see? Visit the ' +\n",
              "            '<a target=\"_blank\" href=https://colab.research.google.com/notebooks/data_table.ipynb>data table notebook</a>'\n",
              "            + ' to learn more about interactive tables.';\n",
              "          element.innerHTML = '';\n",
              "          dataTable['output_type'] = 'display_data';\n",
              "          await google.colab.output.renderOutput(dataTable, element);\n",
              "          const docLink = document.createElement('div');\n",
              "          docLink.innerHTML = docLinkHtml;\n",
              "          element.appendChild(docLink);\n",
              "        }\n",
              "      </script>\n",
              "    </div>\n",
              "  </div>\n",
              "  "
            ]
          },
          "metadata": {},
          "execution_count": 13
        }
      ]
    },
    {
      "cell_type": "code",
      "source": [
        "plt.scatter(x1, y1, c = label, cmap = 'plasma')"
      ],
      "metadata": {
        "colab": {
          "base_uri": "https://localhost:8080/",
          "height": 283
        },
        "id": "U0f3RpCbLDn2",
        "outputId": "8e30e6cf-7842-42b5-ea37-cd0327a48bc0"
      },
      "id": "U0f3RpCbLDn2",
      "execution_count": null,
      "outputs": [
        {
          "output_type": "execute_result",
          "data": {
            "text/plain": [
              "<matplotlib.collections.PathCollection at 0x7fb0a6dace10>"
            ]
          },
          "metadata": {},
          "execution_count": 14
        },
        {
          "output_type": "display_data",
          "data": {
            "text/plain": [
              "<Figure size 432x288 with 1 Axes>"
            ],
            "image/png": "[encoded data removed]"
          },
          "metadata": {
            "needs_background": "light"
          }
        }
      ]
    }
  ],
  "metadata": {
    "kernelspec": {
      "display_name": "Python 3 (ipykernel)",
      "language": "python",
      "name": "python3"
    },
    "language_info": {
      "codemirror_mode": {
        "name": "ipython",
        "version": 3
      },
      "file_extension": ".py",
      "mimetype": "text/x-python",
      "name": "python",
      "nbconvert_exporter": "python",
      "pygments_lexer": "ipython3",
      "version": "3.9.12"
    },
    "colab": {
      "provenance": []
    }
  },
  "nbformat": 4,
  "nbformat_minor": 5
}